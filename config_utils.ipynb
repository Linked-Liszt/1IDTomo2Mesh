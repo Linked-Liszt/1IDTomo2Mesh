{
 "cells": [
  {
   "cell_type": "code",
   "execution_count": null,
   "metadata": {},
   "outputs": [],
   "source": [
    "center = projs.shape[-1]/2.0 # assuming that object is perfectly centered\n",
    "theta = np.linspace(0,np.pi,nprojs, endpoint = True) # Assume equal omegas"
   ]
  }
 ],
 "metadata": {
  "kernelspec": {
   "display_name": "Python 3.9.13 ('tomomesh')",
   "language": "python",
   "name": "python3"
  },
  "language_info": {
   "name": "python",
   "version": "3.9.13"
  },
  "orig_nbformat": 4,
  "vscode": {
   "interpreter": {
    "hash": "e2176581df74c0b7506f83ac3312f0623e3fb96932eed373342b90d9b1263528"
   }
  }
 },
 "nbformat": 4,
 "nbformat_minor": 2
}
