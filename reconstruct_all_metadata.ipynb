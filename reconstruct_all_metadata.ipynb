{
 "cells": [
  {
   "cell_type": "code",
   "execution_count": 9,
   "metadata": {},
   "outputs": [],
   "source": [
    "import json\n",
    "import subprocess #Need to clean up GPU memory after execution so forced to restart interpreter\n",
    "import numpy as np"
   ]
  },
  {
   "cell_type": "code",
   "execution_count": 10,
   "metadata": {},
   "outputs": [],
   "source": [
    "def find_omegas(dat_lines, start_idx, end_idx, entry_line):\n",
    "    METADATA_LINE_LEN = 51 \n",
    "    SCAN_ID_IDX = 7\n",
    "    OMEGA_IDX = 31\n",
    "\n",
    "    omegas = np.zeros(end_idx - start_idx + 1)\n",
    "    found_omegas = np.zeros(end_idx - start_idx + 1)\n",
    "\n",
    "    for i in range(entry_line, 0, -1):\n",
    "        line = dat_lines[i].split(' ')\n",
    "        if len(line) == METADATA_LINE_LEN:\n",
    "            scan_num = int(line[SCAN_ID_IDX])\n",
    "\n",
    "            if scan_num < start_idx:\n",
    "                break\n",
    "\n",
    "            if scan_num <= end_idx:\n",
    "                store_idx = scan_num - start_idx\n",
    "                omegas[store_idx] = float(line[OMEGA_IDX])\n",
    "                found_omegas[store_idx] = True\n",
    "\n",
    "    if not np.all(found_omegas):\n",
    "        raise ValueError(f\"Unable to find all omegas for given scan range {start_idx}-{end_idx}\")    \n",
    "    \n",
    "    return omegas"
   ]
  },
  {
   "cell_type": "code",
   "execution_count": 11,
   "metadata": {},
   "outputs": [],
   "source": [
    "scans = []\n",
    "NUM_FIELD_BEGIN = 10\n",
    "NUM_FIELD_END = 20\n",
    "\n",
    "\n",
    "with open('working_dir/faber_sam1_s12_crack_tomo_TomoFastScan.dat') as dat_f:\n",
    "    read_counter = 0\n",
    "    cur_scan = {}\n",
    "    dat_lines = dat_f.readlines()\n",
    "\n",
    "    for i, line in enumerate(dat_lines):\n",
    "        if line.startswith('End'):\n",
    "            read_counter = 2\n",
    "        elif read_counter == 2:\n",
    "            read_counter -= 1\n",
    "            cur_scan['start'] = int(line.split(' ')[4].strip()) + NUM_FIELD_BEGIN\n",
    "        elif read_counter == 1:\n",
    "            read_counter -= 1\n",
    "            cur_scan['end'] = int(line.split(' ')[4].strip()) - NUM_FIELD_END\n",
    "            cur_scan['omega'] = find_omegas(dat_lines, \n",
    "                                             cur_scan['start'],\n",
    "                                             cur_scan['end'],\n",
    "                                             i)\n",
    "            scans.append(cur_scan)\n",
    "            cur_scan = {}\n",
    "            "
   ]
  },
  {
   "cell_type": "code",
   "execution_count": 12,
   "metadata": {},
   "outputs": [],
   "source": [
    "with open('working_dir/config.json', 'r') as config_f:\n",
    "    config = json.load(config_f)"
   ]
  },
  {
   "cell_type": "code",
   "execution_count": 13,
   "metadata": {},
   "outputs": [
    {
     "name": "stdout",
     "output_type": "stream",
     "text": [
      "(133706, 135506)\n",
      "(135537, 137337)\n",
      "(137368, 139168)\n",
      "(139200, 141000)\n",
      "(141031, 142831)\n",
      "(142862, 144662)\n",
      "(144694, 146494)\n",
      "(146525, 148325)\n",
      "(148356, 150156)\n",
      "(150188, 151988)\n",
      "(152019, 153819)\n",
      "(153850, 155650)\n",
      "(155682, 157482)\n",
      "(157513, 159313)\n",
      "(159344, 161144)\n",
      "(161177, 162977)\n",
      "(163008, 164808)\n",
      "(164839, 166639)\n",
      "(166670, 168470)\n",
      "(168501, 170301)\n",
      "(170332, 172132)\n",
      "(172163, 173963)\n",
      "(173994, 175794)\n"
     ]
    }
   ],
   "source": [
    "for scan in scans:\n",
    "    print(f\"{scan['start'], scan['end']}\")"
   ]
  },
  {
   "cell_type": "code",
   "execution_count": 18,
   "metadata": {},
   "outputs": [
    {
     "name": "stderr",
     "output_type": "stream",
     "text": [
      "2022-09-26 10:44:32.975851: I tensorflow/core/platform/cpu_feature_guard.cc:193] This TensorFlow binary is optimized with oneAPI Deep Neural Network Library (oneDNN) to use the following CPU instructions in performance-critical operations:  AVX2 FMA\n",
      "To enable them in other operations, rebuild TensorFlow with the appropriate compiler flags.\n",
      "2022-09-26 10:44:33.320708: E tensorflow/stream_executor/cuda/cuda_blas.cc:2981] Unable to register cuBLAS factory: Attempting to register factory for plugin cuBLAS when one has already been registered\n",
      "2022-09-26 10:44:36.710586: W tensorflow/stream_executor/platform/default/dso_loader.cc:64] Could not load dynamic library 'libnvinfer.so.7'; dlerror: libnvinfer.so.7: cannot open shared object file: No such file or directory\n",
      "2022-09-26 10:44:36.710811: W tensorflow/stream_executor/platform/default/dso_loader.cc:64] Could not load dynamic library 'libnvinfer_plugin.so.7'; dlerror: libnvinfer_plugin.so.7: cannot open shared object file: No such file or directory\n",
      "2022-09-26 10:44:36.710838: W tensorflow/compiler/tf2tensorrt/utils/py_utils.cc:38] TF-TRT Warning: Cannot dlopen some TensorRT libraries. If you would like to use Nvidia GPU with TensorRT, please make sure the missing libraries mentioned above are installed properly.\n"
     ]
    },
    {
     "name": "stdout",
     "output_type": "stream",
     "text": [
      "\tTIME: COARSE RECON 6.29 secs\n",
      "\tSTAT: voids found - 34033\n",
      "\tTIME: LABELING 24.40 secs\n",
      "void2mesh_mproc: preserve_feature : False, edge_thres : 0, b : 4, nprocs : None\n",
      "\tTIME: compute void mesh 7.50 secs\n",
      "Finished scan 1/23\n"
     ]
    },
    {
     "name": "stderr",
     "output_type": "stream",
     "text": [
      "2022-09-26 10:47:39.250082: I tensorflow/core/platform/cpu_feature_guard.cc:193] This TensorFlow binary is optimized with oneAPI Deep Neural Network Library (oneDNN) to use the following CPU instructions in performance-critical operations:  AVX2 FMA\n",
      "To enable them in other operations, rebuild TensorFlow with the appropriate compiler flags.\n",
      "2022-09-26 10:47:39.531873: E tensorflow/stream_executor/cuda/cuda_blas.cc:2981] Unable to register cuBLAS factory: Attempting to register factory for plugin cuBLAS when one has already been registered\n",
      "2022-09-26 10:47:42.229365: W tensorflow/stream_executor/platform/default/dso_loader.cc:64] Could not load dynamic library 'libnvinfer.so.7'; dlerror: libnvinfer.so.7: cannot open shared object file: No such file or directory\n",
      "2022-09-26 10:47:42.230574: W tensorflow/stream_executor/platform/default/dso_loader.cc:64] Could not load dynamic library 'libnvinfer_plugin.so.7'; dlerror: libnvinfer_plugin.so.7: cannot open shared object file: No such file or directory\n",
      "2022-09-26 10:47:42.230611: W tensorflow/compiler/tf2tensorrt/utils/py_utils.cc:38] TF-TRT Warning: Cannot dlopen some TensorRT libraries. If you would like to use Nvidia GPU with TensorRT, please make sure the missing libraries mentioned above are installed properly.\n"
     ]
    },
    {
     "name": "stdout",
     "output_type": "stream",
     "text": [
      "\tTIME: COARSE RECON 6.47 secs\n",
      "\tSTAT: voids found - 27874\n",
      "\tTIME: LABELING 26.05 secs\n",
      "void2mesh_mproc: preserve_feature : False, edge_thres : 0, b : 4, nprocs : None\n",
      "\tTIME: compute void mesh 7.09 secs\n",
      "Finished scan 2/23\n"
     ]
    },
    {
     "name": "stderr",
     "output_type": "stream",
     "text": [
      "2022-09-26 10:50:43.900551: I tensorflow/core/platform/cpu_feature_guard.cc:193] This TensorFlow binary is optimized with oneAPI Deep Neural Network Library (oneDNN) to use the following CPU instructions in performance-critical operations:  AVX2 FMA\n",
      "To enable them in other operations, rebuild TensorFlow with the appropriate compiler flags.\n",
      "2022-09-26 10:50:44.177115: E tensorflow/stream_executor/cuda/cuda_blas.cc:2981] Unable to register cuBLAS factory: Attempting to register factory for plugin cuBLAS when one has already been registered\n",
      "2022-09-26 10:50:47.938996: W tensorflow/stream_executor/platform/default/dso_loader.cc:64] Could not load dynamic library 'libnvinfer.so.7'; dlerror: libnvinfer.so.7: cannot open shared object file: No such file or directory\n",
      "2022-09-26 10:50:47.940177: W tensorflow/stream_executor/platform/default/dso_loader.cc:64] Could not load dynamic library 'libnvinfer_plugin.so.7'; dlerror: libnvinfer_plugin.so.7: cannot open shared object file: No such file or directory\n",
      "2022-09-26 10:50:47.940215: W tensorflow/compiler/tf2tensorrt/utils/py_utils.cc:38] TF-TRT Warning: Cannot dlopen some TensorRT libraries. If you would like to use Nvidia GPU with TensorRT, please make sure the missing libraries mentioned above are installed properly.\n"
     ]
    },
    {
     "name": "stdout",
     "output_type": "stream",
     "text": [
      "1801\n",
      "1801\n",
      "\tTIME: COARSE RECON 6.29 secs\n",
      "\tSTAT: voids found - 30858\n",
      "\tTIME: LABELING 24.52 secs\n",
      "void2mesh_mproc: preserve_feature : False, edge_thres : 0, b : 4, nprocs : None\n",
      "\tTIME: compute void mesh 7.33 secs\n",
      "Finished scan 3/23\n"
     ]
    },
    {
     "name": "stderr",
     "output_type": "stream",
     "text": [
      "2022-09-26 10:53:49.404588: I tensorflow/core/platform/cpu_feature_guard.cc:193] This TensorFlow binary is optimized with oneAPI Deep Neural Network Library (oneDNN) to use the following CPU instructions in performance-critical operations:  AVX2 FMA\n",
      "To enable them in other operations, rebuild TensorFlow with the appropriate compiler flags.\n",
      "2022-09-26 10:53:49.680302: E tensorflow/stream_executor/cuda/cuda_blas.cc:2981] Unable to register cuBLAS factory: Attempting to register factory for plugin cuBLAS when one has already been registered\n",
      "2022-09-26 10:53:53.156469: W tensorflow/stream_executor/platform/default/dso_loader.cc:64] Could not load dynamic library 'libnvinfer.so.7'; dlerror: libnvinfer.so.7: cannot open shared object file: No such file or directory\n",
      "2022-09-26 10:53:53.157729: W tensorflow/stream_executor/platform/default/dso_loader.cc:64] Could not load dynamic library 'libnvinfer_plugin.so.7'; dlerror: libnvinfer_plugin.so.7: cannot open shared object file: No such file or directory\n",
      "2022-09-26 10:53:53.157765: W tensorflow/compiler/tf2tensorrt/utils/py_utils.cc:38] TF-TRT Warning: Cannot dlopen some TensorRT libraries. If you would like to use Nvidia GPU with TensorRT, please make sure the missing libraries mentioned above are installed properly.\n"
     ]
    },
    {
     "name": "stdout",
     "output_type": "stream",
     "text": [
      "\tTIME: COARSE RECON 6.29 secs\n",
      "\tSTAT: voids found - 35183\n",
      "\tTIME: LABELING 24.26 secs\n",
      "void2mesh_mproc: preserve_feature : False, edge_thres : 0, b : 4, nprocs : None\n",
      "\tTIME: compute void mesh 7.62 secs\n",
      "Finished scan 4/23\n"
     ]
    },
    {
     "name": "stderr",
     "output_type": "stream",
     "text": [
      "2022-09-26 10:56:58.970104: I tensorflow/core/platform/cpu_feature_guard.cc:193] This TensorFlow binary is optimized with oneAPI Deep Neural Network Library (oneDNN) to use the following CPU instructions in performance-critical operations:  AVX2 FMA\n",
      "To enable them in other operations, rebuild TensorFlow with the appropriate compiler flags.\n",
      "2022-09-26 10:56:59.252920: E tensorflow/stream_executor/cuda/cuda_blas.cc:2981] Unable to register cuBLAS factory: Attempting to register factory for plugin cuBLAS when one has already been registered\n",
      "2022-09-26 10:57:02.701525: W tensorflow/stream_executor/platform/default/dso_loader.cc:64] Could not load dynamic library 'libnvinfer.so.7'; dlerror: libnvinfer.so.7: cannot open shared object file: No such file or directory\n",
      "2022-09-26 10:57:02.702762: W tensorflow/stream_executor/platform/default/dso_loader.cc:64] Could not load dynamic library 'libnvinfer_plugin.so.7'; dlerror: libnvinfer_plugin.so.7: cannot open shared object file: No such file or directory\n",
      "2022-09-26 10:57:02.702800: W tensorflow/compiler/tf2tensorrt/utils/py_utils.cc:38] TF-TRT Warning: Cannot dlopen some TensorRT libraries. If you would like to use Nvidia GPU with TensorRT, please make sure the missing libraries mentioned above are installed properly.\n"
     ]
    },
    {
     "name": "stdout",
     "output_type": "stream",
     "text": [
      "\tTIME: COARSE RECON 6.36 secs\n",
      "\tSTAT: voids found - 27158\n",
      "\tTIME: LABELING 24.29 secs\n",
      "void2mesh_mproc: preserve_feature : False, edge_thres : 0, b : 4, nprocs : None\n",
      "\tTIME: compute void mesh 7.23 secs\n",
      "Finished scan 5/23\n"
     ]
    },
    {
     "name": "stderr",
     "output_type": "stream",
     "text": [
      "2022-09-26 11:00:03.267531: I tensorflow/core/platform/cpu_feature_guard.cc:193] This TensorFlow binary is optimized with oneAPI Deep Neural Network Library (oneDNN) to use the following CPU instructions in performance-critical operations:  AVX2 FMA\n",
      "To enable them in other operations, rebuild TensorFlow with the appropriate compiler flags.\n",
      "2022-09-26 11:00:03.610431: E tensorflow/stream_executor/cuda/cuda_blas.cc:2981] Unable to register cuBLAS factory: Attempting to register factory for plugin cuBLAS when one has already been registered\n",
      "2022-09-26 11:00:07.068769: W tensorflow/stream_executor/platform/default/dso_loader.cc:64] Could not load dynamic library 'libnvinfer.so.7'; dlerror: libnvinfer.so.7: cannot open shared object file: No such file or directory\n",
      "2022-09-26 11:00:07.069881: W tensorflow/stream_executor/platform/default/dso_loader.cc:64] Could not load dynamic library 'libnvinfer_plugin.so.7'; dlerror: libnvinfer_plugin.so.7: cannot open shared object file: No such file or directory\n",
      "2022-09-26 11:00:07.069909: W tensorflow/compiler/tf2tensorrt/utils/py_utils.cc:38] TF-TRT Warning: Cannot dlopen some TensorRT libraries. If you would like to use Nvidia GPU with TensorRT, please make sure the missing libraries mentioned above are installed properly.\n"
     ]
    },
    {
     "name": "stdout",
     "output_type": "stream",
     "text": [
      "\tTIME: COARSE RECON 6.42 secs\n",
      "\tSTAT: voids found - 32153\n",
      "\tTIME: LABELING 25.60 secs\n",
      "void2mesh_mproc: preserve_feature : False, edge_thres : 0, b : 4, nprocs : None\n",
      "\tTIME: compute void mesh 7.41 secs\n",
      "Finished scan 6/23\n"
     ]
    },
    {
     "name": "stderr",
     "output_type": "stream",
     "text": [
      "2022-09-26 11:03:10.596017: I tensorflow/core/platform/cpu_feature_guard.cc:193] This TensorFlow binary is optimized with oneAPI Deep Neural Network Library (oneDNN) to use the following CPU instructions in performance-critical operations:  AVX2 FMA\n",
      "To enable them in other operations, rebuild TensorFlow with the appropriate compiler flags.\n",
      "2022-09-26 11:03:10.855057: E tensorflow/stream_executor/cuda/cuda_blas.cc:2981] Unable to register cuBLAS factory: Attempting to register factory for plugin cuBLAS when one has already been registered\n",
      "2022-09-26 11:03:14.356911: W tensorflow/stream_executor/platform/default/dso_loader.cc:64] Could not load dynamic library 'libnvinfer.so.7'; dlerror: libnvinfer.so.7: cannot open shared object file: No such file or directory\n",
      "2022-09-26 11:03:14.358243: W tensorflow/stream_executor/platform/default/dso_loader.cc:64] Could not load dynamic library 'libnvinfer_plugin.so.7'; dlerror: libnvinfer_plugin.so.7: cannot open shared object file: No such file or directory\n",
      "2022-09-26 11:03:14.358279: W tensorflow/compiler/tf2tensorrt/utils/py_utils.cc:38] TF-TRT Warning: Cannot dlopen some TensorRT libraries. If you would like to use Nvidia GPU with TensorRT, please make sure the missing libraries mentioned above are installed properly.\n"
     ]
    },
    {
     "name": "stdout",
     "output_type": "stream",
     "text": [
      "\tTIME: COARSE RECON 6.50 secs\n",
      "\tSTAT: voids found - 30282\n",
      "\tTIME: LABELING 24.20 secs\n",
      "void2mesh_mproc: preserve_feature : False, edge_thres : 0, b : 4, nprocs : None\n",
      "\tTIME: compute void mesh 6.81 secs\n",
      "Finished scan 7/23\n"
     ]
    },
    {
     "name": "stderr",
     "output_type": "stream",
     "text": [
      "2022-09-26 11:06:13.431991: I tensorflow/core/platform/cpu_feature_guard.cc:193] This TensorFlow binary is optimized with oneAPI Deep Neural Network Library (oneDNN) to use the following CPU instructions in performance-critical operations:  AVX2 FMA\n",
      "To enable them in other operations, rebuild TensorFlow with the appropriate compiler flags.\n",
      "2022-09-26 11:06:13.734680: E tensorflow/stream_executor/cuda/cuda_blas.cc:2981] Unable to register cuBLAS factory: Attempting to register factory for plugin cuBLAS when one has already been registered\n",
      "2022-09-26 11:06:17.196736: W tensorflow/stream_executor/platform/default/dso_loader.cc:64] Could not load dynamic library 'libnvinfer.so.7'; dlerror: libnvinfer.so.7: cannot open shared object file: No such file or directory\n",
      "2022-09-26 11:06:17.198371: W tensorflow/stream_executor/platform/default/dso_loader.cc:64] Could not load dynamic library 'libnvinfer_plugin.so.7'; dlerror: libnvinfer_plugin.so.7: cannot open shared object file: No such file or directory\n",
      "2022-09-26 11:06:17.198410: W tensorflow/compiler/tf2tensorrt/utils/py_utils.cc:38] TF-TRT Warning: Cannot dlopen some TensorRT libraries. If you would like to use Nvidia GPU with TensorRT, please make sure the missing libraries mentioned above are installed properly.\n"
     ]
    },
    {
     "name": "stdout",
     "output_type": "stream",
     "text": [
      "\tTIME: COARSE RECON 6.46 secs\n",
      "\tSTAT: voids found - 36189\n",
      "\tTIME: LABELING 25.08 secs\n",
      "void2mesh_mproc: preserve_feature : False, edge_thres : 0, b : 4, nprocs : None\n",
      "\tTIME: compute void mesh 7.90 secs\n",
      "Finished scan 8/23\n"
     ]
    },
    {
     "name": "stderr",
     "output_type": "stream",
     "text": [
      "2022-09-26 11:09:21.873989: I tensorflow/core/platform/cpu_feature_guard.cc:193] This TensorFlow binary is optimized with oneAPI Deep Neural Network Library (oneDNN) to use the following CPU instructions in performance-critical operations:  AVX2 FMA\n",
      "To enable them in other operations, rebuild TensorFlow with the appropriate compiler flags.\n",
      "2022-09-26 11:09:22.218866: E tensorflow/stream_executor/cuda/cuda_blas.cc:2981] Unable to register cuBLAS factory: Attempting to register factory for plugin cuBLAS when one has already been registered\n",
      "2022-09-26 11:09:25.686432: W tensorflow/stream_executor/platform/default/dso_loader.cc:64] Could not load dynamic library 'libnvinfer.so.7'; dlerror: libnvinfer.so.7: cannot open shared object file: No such file or directory\n",
      "2022-09-26 11:09:25.687853: W tensorflow/stream_executor/platform/default/dso_loader.cc:64] Could not load dynamic library 'libnvinfer_plugin.so.7'; dlerror: libnvinfer_plugin.so.7: cannot open shared object file: No such file or directory\n",
      "2022-09-26 11:09:25.687891: W tensorflow/compiler/tf2tensorrt/utils/py_utils.cc:38] TF-TRT Warning: Cannot dlopen some TensorRT libraries. If you would like to use Nvidia GPU with TensorRT, please make sure the missing libraries mentioned above are installed properly.\n"
     ]
    },
    {
     "name": "stdout",
     "output_type": "stream",
     "text": [
      "\tTIME: COARSE RECON 6.36 secs\n",
      "\tSTAT: voids found - 34742\n",
      "\tTIME: LABELING 24.98 secs\n",
      "void2mesh_mproc: preserve_feature : False, edge_thres : 0, b : 4, nprocs : None\n",
      "\tTIME: compute void mesh 7.60 secs\n",
      "Finished scan 9/23\n"
     ]
    },
    {
     "name": "stderr",
     "output_type": "stream",
     "text": [
      "2022-09-26 11:12:30.852358: I tensorflow/core/platform/cpu_feature_guard.cc:193] This TensorFlow binary is optimized with oneAPI Deep Neural Network Library (oneDNN) to use the following CPU instructions in performance-critical operations:  AVX2 FMA\n",
      "To enable them in other operations, rebuild TensorFlow with the appropriate compiler flags.\n",
      "2022-09-26 11:12:31.124552: E tensorflow/stream_executor/cuda/cuda_blas.cc:2981] Unable to register cuBLAS factory: Attempting to register factory for plugin cuBLAS when one has already been registered\n",
      "2022-09-26 11:12:34.534867: W tensorflow/stream_executor/platform/default/dso_loader.cc:64] Could not load dynamic library 'libnvinfer.so.7'; dlerror: libnvinfer.so.7: cannot open shared object file: No such file or directory\n",
      "2022-09-26 11:12:34.536100: W tensorflow/stream_executor/platform/default/dso_loader.cc:64] Could not load dynamic library 'libnvinfer_plugin.so.7'; dlerror: libnvinfer_plugin.so.7: cannot open shared object file: No such file or directory\n",
      "2022-09-26 11:12:34.536135: W tensorflow/compiler/tf2tensorrt/utils/py_utils.cc:38] TF-TRT Warning: Cannot dlopen some TensorRT libraries. If you would like to use Nvidia GPU with TensorRT, please make sure the missing libraries mentioned above are installed properly.\n"
     ]
    },
    {
     "name": "stdout",
     "output_type": "stream",
     "text": [
      "\tTIME: COARSE RECON 6.50 secs\n",
      "\tSTAT: voids found - 37229\n",
      "\tTIME: LABELING 23.97 secs\n",
      "void2mesh_mproc: preserve_feature : False, edge_thres : 0, b : 4, nprocs : None\n",
      "\tTIME: compute void mesh 8.05 secs\n",
      "Finished scan 10/23\n"
     ]
    },
    {
     "name": "stderr",
     "output_type": "stream",
     "text": [
      "2022-09-26 11:15:41.702333: I tensorflow/core/platform/cpu_feature_guard.cc:193] This TensorFlow binary is optimized with oneAPI Deep Neural Network Library (oneDNN) to use the following CPU instructions in performance-critical operations:  AVX2 FMA\n",
      "To enable them in other operations, rebuild TensorFlow with the appropriate compiler flags.\n",
      "2022-09-26 11:15:41.955058: E tensorflow/stream_executor/cuda/cuda_blas.cc:2981] Unable to register cuBLAS factory: Attempting to register factory for plugin cuBLAS when one has already been registered\n",
      "2022-09-26 11:15:45.468100: W tensorflow/stream_executor/platform/default/dso_loader.cc:64] Could not load dynamic library 'libnvinfer.so.7'; dlerror: libnvinfer.so.7: cannot open shared object file: No such file or directory\n",
      "2022-09-26 11:15:45.469409: W tensorflow/stream_executor/platform/default/dso_loader.cc:64] Could not load dynamic library 'libnvinfer_plugin.so.7'; dlerror: libnvinfer_plugin.so.7: cannot open shared object file: No such file or directory\n",
      "2022-09-26 11:15:45.469446: W tensorflow/compiler/tf2tensorrt/utils/py_utils.cc:38] TF-TRT Warning: Cannot dlopen some TensorRT libraries. If you would like to use Nvidia GPU with TensorRT, please make sure the missing libraries mentioned above are installed properly.\n"
     ]
    },
    {
     "name": "stdout",
     "output_type": "stream",
     "text": [
      "\tTIME: COARSE RECON 6.41 secs\n",
      "\tSTAT: voids found - 35594\n",
      "\tTIME: LABELING 25.52 secs\n",
      "void2mesh_mproc: preserve_feature : False, edge_thres : 0, b : 4, nprocs : None\n",
      "\tTIME: compute void mesh 7.38 secs\n",
      "Finished scan 11/23\n"
     ]
    },
    {
     "name": "stderr",
     "output_type": "stream",
     "text": [
      "2022-09-26 11:18:48.094320: I tensorflow/core/platform/cpu_feature_guard.cc:193] This TensorFlow binary is optimized with oneAPI Deep Neural Network Library (oneDNN) to use the following CPU instructions in performance-critical operations:  AVX2 FMA\n",
      "To enable them in other operations, rebuild TensorFlow with the appropriate compiler flags.\n",
      "2022-09-26 11:18:48.367010: E tensorflow/stream_executor/cuda/cuda_blas.cc:2981] Unable to register cuBLAS factory: Attempting to register factory for plugin cuBLAS when one has already been registered\n",
      "2022-09-26 11:18:51.820118: W tensorflow/stream_executor/platform/default/dso_loader.cc:64] Could not load dynamic library 'libnvinfer.so.7'; dlerror: libnvinfer.so.7: cannot open shared object file: No such file or directory\n",
      "2022-09-26 11:18:51.821263: W tensorflow/stream_executor/platform/default/dso_loader.cc:64] Could not load dynamic library 'libnvinfer_plugin.so.7'; dlerror: libnvinfer_plugin.so.7: cannot open shared object file: No such file or directory\n",
      "2022-09-26 11:18:51.821301: W tensorflow/compiler/tf2tensorrt/utils/py_utils.cc:38] TF-TRT Warning: Cannot dlopen some TensorRT libraries. If you would like to use Nvidia GPU with TensorRT, please make sure the missing libraries mentioned above are installed properly.\n"
     ]
    },
    {
     "name": "stdout",
     "output_type": "stream",
     "text": [
      "\tTIME: COARSE RECON 6.37 secs\n",
      "\tSTAT: voids found - 32042\n",
      "\tTIME: LABELING 25.11 secs\n",
      "void2mesh_mproc: preserve_feature : False, edge_thres : 0, b : 4, nprocs : None\n",
      "\tTIME: compute void mesh 7.09 secs\n",
      "Finished scan 12/23\n"
     ]
    },
    {
     "name": "stderr",
     "output_type": "stream",
     "text": [
      "2022-09-26 11:21:53.349368: I tensorflow/core/platform/cpu_feature_guard.cc:193] This TensorFlow binary is optimized with oneAPI Deep Neural Network Library (oneDNN) to use the following CPU instructions in performance-critical operations:  AVX2 FMA\n",
      "To enable them in other operations, rebuild TensorFlow with the appropriate compiler flags.\n",
      "2022-09-26 11:21:53.621695: E tensorflow/stream_executor/cuda/cuda_blas.cc:2981] Unable to register cuBLAS factory: Attempting to register factory for plugin cuBLAS when one has already been registered\n",
      "2022-09-26 11:21:57.076848: W tensorflow/stream_executor/platform/default/dso_loader.cc:64] Could not load dynamic library 'libnvinfer.so.7'; dlerror: libnvinfer.so.7: cannot open shared object file: No such file or directory\n",
      "2022-09-26 11:21:57.077989: W tensorflow/stream_executor/platform/default/dso_loader.cc:64] Could not load dynamic library 'libnvinfer_plugin.so.7'; dlerror: libnvinfer_plugin.so.7: cannot open shared object file: No such file or directory\n",
      "2022-09-26 11:21:57.078018: W tensorflow/compiler/tf2tensorrt/utils/py_utils.cc:38] TF-TRT Warning: Cannot dlopen some TensorRT libraries. If you would like to use Nvidia GPU with TensorRT, please make sure the missing libraries mentioned above are installed properly.\n"
     ]
    },
    {
     "name": "stdout",
     "output_type": "stream",
     "text": [
      "\tTIME: COARSE RECON 6.42 secs\n",
      "\tSTAT: voids found - 38367\n",
      "\tTIME: LABELING 22.89 secs\n",
      "void2mesh_mproc: preserve_feature : False, edge_thres : 0, b : 4, nprocs : None\n",
      "\tTIME: compute void mesh 8.08 secs\n",
      "Finished scan 13/23\n"
     ]
    },
    {
     "name": "stderr",
     "output_type": "stream",
     "text": [
      "2022-09-26 11:25:01.473485: I tensorflow/core/platform/cpu_feature_guard.cc:193] This TensorFlow binary is optimized with oneAPI Deep Neural Network Library (oneDNN) to use the following CPU instructions in performance-critical operations:  AVX2 FMA\n",
      "To enable them in other operations, rebuild TensorFlow with the appropriate compiler flags.\n",
      "2022-09-26 11:25:01.747418: E tensorflow/stream_executor/cuda/cuda_blas.cc:2981] Unable to register cuBLAS factory: Attempting to register factory for plugin cuBLAS when one has already been registered\n",
      "2022-09-26 11:25:05.199338: W tensorflow/stream_executor/platform/default/dso_loader.cc:64] Could not load dynamic library 'libnvinfer.so.7'; dlerror: libnvinfer.so.7: cannot open shared object file: No such file or directory\n",
      "2022-09-26 11:25:05.200475: W tensorflow/stream_executor/platform/default/dso_loader.cc:64] Could not load dynamic library 'libnvinfer_plugin.so.7'; dlerror: libnvinfer_plugin.so.7: cannot open shared object file: No such file or directory\n",
      "2022-09-26 11:25:05.200513: W tensorflow/compiler/tf2tensorrt/utils/py_utils.cc:38] TF-TRT Warning: Cannot dlopen some TensorRT libraries. If you would like to use Nvidia GPU with TensorRT, please make sure the missing libraries mentioned above are installed properly.\n"
     ]
    },
    {
     "name": "stdout",
     "output_type": "stream",
     "text": [
      "\tTIME: COARSE RECON 6.30 secs\n",
      "\tSTAT: voids found - 35396\n",
      "\tTIME: LABELING 26.25 secs\n",
      "void2mesh_mproc: preserve_feature : False, edge_thres : 0, b : 4, nprocs : None\n",
      "\tTIME: compute void mesh 7.96 secs\n",
      "Finished scan 14/23\n"
     ]
    },
    {
     "name": "stderr",
     "output_type": "stream",
     "text": [
      "2022-09-26 11:28:10.219130: I tensorflow/core/platform/cpu_feature_guard.cc:193] This TensorFlow binary is optimized with oneAPI Deep Neural Network Library (oneDNN) to use the following CPU instructions in performance-critical operations:  AVX2 FMA\n",
      "To enable them in other operations, rebuild TensorFlow with the appropriate compiler flags.\n",
      "2022-09-26 11:28:10.491911: E tensorflow/stream_executor/cuda/cuda_blas.cc:2981] Unable to register cuBLAS factory: Attempting to register factory for plugin cuBLAS when one has already been registered\n",
      "2022-09-26 11:28:13.975283: W tensorflow/stream_executor/platform/default/dso_loader.cc:64] Could not load dynamic library 'libnvinfer.so.7'; dlerror: libnvinfer.so.7: cannot open shared object file: No such file or directory\n",
      "2022-09-26 11:28:13.976465: W tensorflow/stream_executor/platform/default/dso_loader.cc:64] Could not load dynamic library 'libnvinfer_plugin.so.7'; dlerror: libnvinfer_plugin.so.7: cannot open shared object file: No such file or directory\n",
      "2022-09-26 11:28:13.976503: W tensorflow/compiler/tf2tensorrt/utils/py_utils.cc:38] TF-TRT Warning: Cannot dlopen some TensorRT libraries. If you would like to use Nvidia GPU with TensorRT, please make sure the missing libraries mentioned above are installed properly.\n"
     ]
    },
    {
     "name": "stdout",
     "output_type": "stream",
     "text": [
      "\tTIME: COARSE RECON 6.33 secs\n",
      "\tSTAT: voids found - 34182\n",
      "\tTIME: LABELING 25.28 secs\n",
      "void2mesh_mproc: preserve_feature : False, edge_thres : 0, b : 4, nprocs : None\n",
      "\tTIME: compute void mesh 7.69 secs\n",
      "Finished scan 15/23\n"
     ]
    },
    {
     "name": "stderr",
     "output_type": "stream",
     "text": [
      "2022-09-26 11:31:15.240162: I tensorflow/core/platform/cpu_feature_guard.cc:193] This TensorFlow binary is optimized with oneAPI Deep Neural Network Library (oneDNN) to use the following CPU instructions in performance-critical operations:  AVX2 FMA\n",
      "To enable them in other operations, rebuild TensorFlow with the appropriate compiler flags.\n",
      "2022-09-26 11:31:15.512148: E tensorflow/stream_executor/cuda/cuda_blas.cc:2981] Unable to register cuBLAS factory: Attempting to register factory for plugin cuBLAS when one has already been registered\n",
      "2022-09-26 11:31:18.953726: W tensorflow/stream_executor/platform/default/dso_loader.cc:64] Could not load dynamic library 'libnvinfer.so.7'; dlerror: libnvinfer.so.7: cannot open shared object file: No such file or directory\n",
      "2022-09-26 11:31:18.954920: W tensorflow/stream_executor/platform/default/dso_loader.cc:64] Could not load dynamic library 'libnvinfer_plugin.so.7'; dlerror: libnvinfer_plugin.so.7: cannot open shared object file: No such file or directory\n",
      "2022-09-26 11:31:18.954949: W tensorflow/compiler/tf2tensorrt/utils/py_utils.cc:38] TF-TRT Warning: Cannot dlopen some TensorRT libraries. If you would like to use Nvidia GPU with TensorRT, please make sure the missing libraries mentioned above are installed properly.\n",
      "Traceback (most recent call last):\n",
      "  File \"/home/phoebus3/MPRINCE/Desktop/projects/1IDTomo2Mesh/coarse_mesh.py\", line 73, in <module>\n",
      "    find_voids_coarse(config, args.output_fp)\n",
      "  File \"/home/phoebus3/MPRINCE/Desktop/projects/1IDTomo2Mesh/coarse_mesh.py\", line 49, in find_voids_coarse\n",
      "    im = Image.open(os.path.join(prefix, config['img_prefix'] + f'_{im_idx}.tif'))\n",
      "  File \"/home/phoebus/MPRINCE/anaconda3/envs/tomo2meshuni/lib/python3.9/site-packages/PIL/Image.py\", line 3147, in open\n",
      "    raise UnidentifiedImageError(\n",
      "PIL.UnidentifiedImageError: cannot identify image file '/home/phoebus/MPRINCE/Data/Tomo/faber_sam1_s12_crack_tomo/faber_sam1_s12_crack_tomo_161292.tif'\n"
     ]
    },
    {
     "name": "stdout",
     "output_type": "stream",
     "text": [
      "Finished scan 16/23\n"
     ]
    },
    {
     "name": "stderr",
     "output_type": "stream",
     "text": [
      "2022-09-26 11:31:39.278620: I tensorflow/core/platform/cpu_feature_guard.cc:193] This TensorFlow binary is optimized with oneAPI Deep Neural Network Library (oneDNN) to use the following CPU instructions in performance-critical operations:  AVX2 FMA\n",
      "To enable them in other operations, rebuild TensorFlow with the appropriate compiler flags.\n",
      "2022-09-26 11:31:39.622342: E tensorflow/stream_executor/cuda/cuda_blas.cc:2981] Unable to register cuBLAS factory: Attempting to register factory for plugin cuBLAS when one has already been registered\n",
      "2022-09-26 11:31:42.464565: W tensorflow/stream_executor/platform/default/dso_loader.cc:64] Could not load dynamic library 'libnvinfer.so.7'; dlerror: libnvinfer.so.7: cannot open shared object file: No such file or directory\n",
      "2022-09-26 11:31:42.464788: W tensorflow/stream_executor/platform/default/dso_loader.cc:64] Could not load dynamic library 'libnvinfer_plugin.so.7'; dlerror: libnvinfer_plugin.so.7: cannot open shared object file: No such file or directory\n",
      "2022-09-26 11:31:42.464817: W tensorflow/compiler/tf2tensorrt/utils/py_utils.cc:38] TF-TRT Warning: Cannot dlopen some TensorRT libraries. If you would like to use Nvidia GPU with TensorRT, please make sure the missing libraries mentioned above are installed properly.\n",
      "Traceback (most recent call last):\n",
      "  File \"/home/phoebus3/MPRINCE/Desktop/projects/1IDTomo2Mesh/coarse_mesh.py\", line 73, in <module>\n",
      "    find_voids_coarse(config, args.output_fp)\n",
      "  File \"/home/phoebus3/MPRINCE/Desktop/projects/1IDTomo2Mesh/coarse_mesh.py\", line 49, in find_voids_coarse\n",
      "    im = Image.open(os.path.join(prefix, config['img_prefix'] + f'_{im_idx}.tif'))\n",
      "  File \"/home/phoebus/MPRINCE/anaconda3/envs/tomo2meshuni/lib/python3.9/site-packages/PIL/Image.py\", line 3147, in open\n",
      "    raise UnidentifiedImageError(\n",
      "PIL.UnidentifiedImageError: cannot identify image file '/home/phoebus/MPRINCE/Data/Tomo/faber_sam1_s12_crack_tomo/faber_sam1_s12_crack_tomo_163021.tif'\n"
     ]
    },
    {
     "name": "stdout",
     "output_type": "stream",
     "text": [
      "Finished scan 17/23\n"
     ]
    },
    {
     "name": "stderr",
     "output_type": "stream",
     "text": [
      "2022-09-26 11:31:55.359435: I tensorflow/core/platform/cpu_feature_guard.cc:193] This TensorFlow binary is optimized with oneAPI Deep Neural Network Library (oneDNN) to use the following CPU instructions in performance-critical operations:  AVX2 FMA\n",
      "To enable them in other operations, rebuild TensorFlow with the appropriate compiler flags.\n",
      "2022-09-26 11:31:55.609122: E tensorflow/stream_executor/cuda/cuda_blas.cc:2981] Unable to register cuBLAS factory: Attempting to register factory for plugin cuBLAS when one has already been registered\n",
      "2022-09-26 11:31:58.518642: W tensorflow/stream_executor/platform/default/dso_loader.cc:64] Could not load dynamic library 'libnvinfer.so.7'; dlerror: libnvinfer.so.7: cannot open shared object file: No such file or directory\n",
      "2022-09-26 11:31:58.518860: W tensorflow/stream_executor/platform/default/dso_loader.cc:64] Could not load dynamic library 'libnvinfer_plugin.so.7'; dlerror: libnvinfer_plugin.so.7: cannot open shared object file: No such file or directory\n",
      "2022-09-26 11:31:58.518891: W tensorflow/compiler/tf2tensorrt/utils/py_utils.cc:38] TF-TRT Warning: Cannot dlopen some TensorRT libraries. If you would like to use Nvidia GPU with TensorRT, please make sure the missing libraries mentioned above are installed properly.\n",
      "Traceback (most recent call last):\n",
      "  File \"/home/phoebus3/MPRINCE/Desktop/projects/1IDTomo2Mesh/coarse_mesh.py\", line 73, in <module>\n",
      "    find_voids_coarse(config, args.output_fp)\n",
      "  File \"/home/phoebus3/MPRINCE/Desktop/projects/1IDTomo2Mesh/coarse_mesh.py\", line 49, in find_voids_coarse\n",
      "    im = Image.open(os.path.join(prefix, config['img_prefix'] + f'_{im_idx}.tif'))\n",
      "  File \"/home/phoebus/MPRINCE/anaconda3/envs/tomo2meshuni/lib/python3.9/site-packages/PIL/Image.py\", line 3147, in open\n",
      "    raise UnidentifiedImageError(\n",
      "PIL.UnidentifiedImageError: cannot identify image file '/home/phoebus/MPRINCE/Data/Tomo/faber_sam1_s12_crack_tomo/faber_sam1_s12_crack_tomo_164839.tif'\n"
     ]
    },
    {
     "name": "stdout",
     "output_type": "stream",
     "text": [
      "Finished scan 18/23\n"
     ]
    },
    {
     "name": "stderr",
     "output_type": "stream",
     "text": [
      "2022-09-26 11:32:10.810625: I tensorflow/core/platform/cpu_feature_guard.cc:193] This TensorFlow binary is optimized with oneAPI Deep Neural Network Library (oneDNN) to use the following CPU instructions in performance-critical operations:  AVX2 FMA\n",
      "To enable them in other operations, rebuild TensorFlow with the appropriate compiler flags.\n",
      "2022-09-26 11:32:11.083781: E tensorflow/stream_executor/cuda/cuda_blas.cc:2981] Unable to register cuBLAS factory: Attempting to register factory for plugin cuBLAS when one has already been registered\n",
      "2022-09-26 11:32:13.914746: W tensorflow/stream_executor/platform/default/dso_loader.cc:64] Could not load dynamic library 'libnvinfer.so.7'; dlerror: libnvinfer.so.7: cannot open shared object file: No such file or directory\n",
      "2022-09-26 11:32:13.914960: W tensorflow/stream_executor/platform/default/dso_loader.cc:64] Could not load dynamic library 'libnvinfer_plugin.so.7'; dlerror: libnvinfer_plugin.so.7: cannot open shared object file: No such file or directory\n",
      "2022-09-26 11:32:13.914988: W tensorflow/compiler/tf2tensorrt/utils/py_utils.cc:38] TF-TRT Warning: Cannot dlopen some TensorRT libraries. If you would like to use Nvidia GPU with TensorRT, please make sure the missing libraries mentioned above are installed properly.\n",
      "Traceback (most recent call last):\n",
      "  File \"/home/phoebus3/MPRINCE/Desktop/projects/1IDTomo2Mesh/coarse_mesh.py\", line 73, in <module>\n",
      "    find_voids_coarse(config, args.output_fp)\n",
      "  File \"/home/phoebus3/MPRINCE/Desktop/projects/1IDTomo2Mesh/coarse_mesh.py\", line 49, in find_voids_coarse\n",
      "    im = Image.open(os.path.join(prefix, config['img_prefix'] + f'_{im_idx}.tif'))\n",
      "  File \"/home/phoebus/MPRINCE/anaconda3/envs/tomo2meshuni/lib/python3.9/site-packages/PIL/Image.py\", line 3147, in open\n",
      "    raise UnidentifiedImageError(\n",
      "PIL.UnidentifiedImageError: cannot identify image file '/home/phoebus/MPRINCE/Data/Tomo/faber_sam1_s12_crack_tomo/faber_sam1_s12_crack_tomo_166673.tif'\n"
     ]
    },
    {
     "name": "stdout",
     "output_type": "stream",
     "text": [
      "Finished scan 19/23\n"
     ]
    },
    {
     "name": "stderr",
     "output_type": "stream",
     "text": [
      "2022-09-26 11:32:26.619573: I tensorflow/core/platform/cpu_feature_guard.cc:193] This TensorFlow binary is optimized with oneAPI Deep Neural Network Library (oneDNN) to use the following CPU instructions in performance-critical operations:  AVX2 FMA\n",
      "To enable them in other operations, rebuild TensorFlow with the appropriate compiler flags.\n",
      "2022-09-26 11:32:26.904787: E tensorflow/stream_executor/cuda/cuda_blas.cc:2981] Unable to register cuBLAS factory: Attempting to register factory for plugin cuBLAS when one has already been registered\n",
      "2022-09-26 11:32:30.175374: W tensorflow/stream_executor/platform/default/dso_loader.cc:64] Could not load dynamic library 'libnvinfer.so.7'; dlerror: libnvinfer.so.7: cannot open shared object file: No such file or directory\n",
      "2022-09-26 11:32:30.175573: W tensorflow/stream_executor/platform/default/dso_loader.cc:64] Could not load dynamic library 'libnvinfer_plugin.so.7'; dlerror: libnvinfer_plugin.so.7: cannot open shared object file: No such file or directory\n",
      "2022-09-26 11:32:30.175601: W tensorflow/compiler/tf2tensorrt/utils/py_utils.cc:38] TF-TRT Warning: Cannot dlopen some TensorRT libraries. If you would like to use Nvidia GPU with TensorRT, please make sure the missing libraries mentioned above are installed properly.\n",
      "Traceback (most recent call last):\n",
      "  File \"/home/phoebus3/MPRINCE/Desktop/projects/1IDTomo2Mesh/coarse_mesh.py\", line 73, in <module>\n",
      "    find_voids_coarse(config, args.output_fp)\n",
      "  File \"/home/phoebus3/MPRINCE/Desktop/projects/1IDTomo2Mesh/coarse_mesh.py\", line 49, in find_voids_coarse\n",
      "    im = Image.open(os.path.join(prefix, config['img_prefix'] + f'_{im_idx}.tif'))\n",
      "  File \"/home/phoebus/MPRINCE/anaconda3/envs/tomo2meshuni/lib/python3.9/site-packages/PIL/Image.py\", line 3147, in open\n",
      "    raise UnidentifiedImageError(\n",
      "PIL.UnidentifiedImageError: cannot identify image file '/home/phoebus/MPRINCE/Data/Tomo/faber_sam1_s12_crack_tomo/faber_sam1_s12_crack_tomo_170059.tif'\n"
     ]
    },
    {
     "name": "stdout",
     "output_type": "stream",
     "text": [
      "Finished scan 20/23\n"
     ]
    },
    {
     "name": "stderr",
     "output_type": "stream",
     "text": [
      "2022-09-26 11:34:15.933829: I tensorflow/core/platform/cpu_feature_guard.cc:193] This TensorFlow binary is optimized with oneAPI Deep Neural Network Library (oneDNN) to use the following CPU instructions in performance-critical operations:  AVX2 FMA\n",
      "To enable them in other operations, rebuild TensorFlow with the appropriate compiler flags.\n",
      "2022-09-26 11:34:16.205411: E tensorflow/stream_executor/cuda/cuda_blas.cc:2981] Unable to register cuBLAS factory: Attempting to register factory for plugin cuBLAS when one has already been registered\n",
      "2022-09-26 11:34:19.513181: W tensorflow/stream_executor/platform/default/dso_loader.cc:64] Could not load dynamic library 'libnvinfer.so.7'; dlerror: libnvinfer.so.7: cannot open shared object file: No such file or directory\n",
      "2022-09-26 11:34:19.513386: W tensorflow/stream_executor/platform/default/dso_loader.cc:64] Could not load dynamic library 'libnvinfer_plugin.so.7'; dlerror: libnvinfer_plugin.so.7: cannot open shared object file: No such file or directory\n",
      "2022-09-26 11:34:19.513410: W tensorflow/compiler/tf2tensorrt/utils/py_utils.cc:38] TF-TRT Warning: Cannot dlopen some TensorRT libraries. If you would like to use Nvidia GPU with TensorRT, please make sure the missing libraries mentioned above are installed properly.\n",
      "Traceback (most recent call last):\n",
      "  File \"/home/phoebus3/MPRINCE/Desktop/projects/1IDTomo2Mesh/coarse_mesh.py\", line 73, in <module>\n",
      "    find_voids_coarse(config, args.output_fp)\n",
      "  File \"/home/phoebus3/MPRINCE/Desktop/projects/1IDTomo2Mesh/coarse_mesh.py\", line 49, in find_voids_coarse\n",
      "    im = Image.open(os.path.join(prefix, config['img_prefix'] + f'_{im_idx}.tif'))\n",
      "  File \"/home/phoebus/MPRINCE/anaconda3/envs/tomo2meshuni/lib/python3.9/site-packages/PIL/Image.py\", line 3147, in open\n",
      "    raise UnidentifiedImageError(\n",
      "PIL.UnidentifiedImageError: cannot identify image file '/home/phoebus/MPRINCE/Data/Tomo/faber_sam1_s12_crack_tomo/faber_sam1_s12_crack_tomo_170335.tif'\n"
     ]
    },
    {
     "name": "stdout",
     "output_type": "stream",
     "text": [
      "Finished scan 21/23\n"
     ]
    },
    {
     "name": "stderr",
     "output_type": "stream",
     "text": [
      "2022-09-26 11:34:32.958944: I tensorflow/core/platform/cpu_feature_guard.cc:193] This TensorFlow binary is optimized with oneAPI Deep Neural Network Library (oneDNN) to use the following CPU instructions in performance-critical operations:  AVX2 FMA\n",
      "To enable them in other operations, rebuild TensorFlow with the appropriate compiler flags.\n",
      "2022-09-26 11:34:33.256941: E tensorflow/stream_executor/cuda/cuda_blas.cc:2981] Unable to register cuBLAS factory: Attempting to register factory for plugin cuBLAS when one has already been registered\n",
      "2022-09-26 11:34:36.237308: W tensorflow/stream_executor/platform/default/dso_loader.cc:64] Could not load dynamic library 'libnvinfer.so.7'; dlerror: libnvinfer.so.7: cannot open shared object file: No such file or directory\n",
      "2022-09-26 11:34:36.237517: W tensorflow/stream_executor/platform/default/dso_loader.cc:64] Could not load dynamic library 'libnvinfer_plugin.so.7'; dlerror: libnvinfer_plugin.so.7: cannot open shared object file: No such file or directory\n",
      "2022-09-26 11:34:36.237545: W tensorflow/compiler/tf2tensorrt/utils/py_utils.cc:38] TF-TRT Warning: Cannot dlopen some TensorRT libraries. If you would like to use Nvidia GPU with TensorRT, please make sure the missing libraries mentioned above are installed properly.\n",
      "Traceback (most recent call last):\n",
      "  File \"/home/phoebus3/MPRINCE/Desktop/projects/1IDTomo2Mesh/coarse_mesh.py\", line 73, in <module>\n",
      "    find_voids_coarse(config, args.output_fp)\n",
      "  File \"/home/phoebus3/MPRINCE/Desktop/projects/1IDTomo2Mesh/coarse_mesh.py\", line 49, in find_voids_coarse\n",
      "    im = Image.open(os.path.join(prefix, config['img_prefix'] + f'_{im_idx}.tif'))\n",
      "  File \"/home/phoebus/MPRINCE/anaconda3/envs/tomo2meshuni/lib/python3.9/site-packages/PIL/Image.py\", line 3147, in open\n",
      "    raise UnidentifiedImageError(\n",
      "PIL.UnidentifiedImageError: cannot identify image file '/home/phoebus/MPRINCE/Data/Tomo/faber_sam1_s12_crack_tomo/faber_sam1_s12_crack_tomo_172166.tif'\n"
     ]
    },
    {
     "name": "stdout",
     "output_type": "stream",
     "text": [
      "Finished scan 22/23\n"
     ]
    },
    {
     "name": "stderr",
     "output_type": "stream",
     "text": [
      "2022-09-26 11:34:48.746438: I tensorflow/core/platform/cpu_feature_guard.cc:193] This TensorFlow binary is optimized with oneAPI Deep Neural Network Library (oneDNN) to use the following CPU instructions in performance-critical operations:  AVX2 FMA\n",
      "To enable them in other operations, rebuild TensorFlow with the appropriate compiler flags.\n",
      "2022-09-26 11:34:49.090169: E tensorflow/stream_executor/cuda/cuda_blas.cc:2981] Unable to register cuBLAS factory: Attempting to register factory for plugin cuBLAS when one has already been registered\n",
      "2022-09-26 11:34:51.922048: W tensorflow/stream_executor/platform/default/dso_loader.cc:64] Could not load dynamic library 'libnvinfer.so.7'; dlerror: libnvinfer.so.7: cannot open shared object file: No such file or directory\n",
      "2022-09-26 11:34:51.922242: W tensorflow/stream_executor/platform/default/dso_loader.cc:64] Could not load dynamic library 'libnvinfer_plugin.so.7'; dlerror: libnvinfer_plugin.so.7: cannot open shared object file: No such file or directory\n",
      "2022-09-26 11:34:51.922265: W tensorflow/compiler/tf2tensorrt/utils/py_utils.cc:38] TF-TRT Warning: Cannot dlopen some TensorRT libraries. If you would like to use Nvidia GPU with TensorRT, please make sure the missing libraries mentioned above are installed properly.\n",
      "Traceback (most recent call last):\n",
      "  File \"/home/phoebus3/MPRINCE/Desktop/projects/1IDTomo2Mesh/coarse_mesh.py\", line 73, in <module>\n",
      "    find_voids_coarse(config, args.output_fp)\n",
      "  File \"/home/phoebus3/MPRINCE/Desktop/projects/1IDTomo2Mesh/coarse_mesh.py\", line 49, in find_voids_coarse\n",
      "    im = Image.open(os.path.join(prefix, config['img_prefix'] + f'_{im_idx}.tif'))\n",
      "  File \"/home/phoebus/MPRINCE/anaconda3/envs/tomo2meshuni/lib/python3.9/site-packages/PIL/Image.py\", line 3147, in open\n",
      "    raise UnidentifiedImageError(\n",
      "PIL.UnidentifiedImageError: cannot identify image file '/home/phoebus/MPRINCE/Data/Tomo/faber_sam1_s12_crack_tomo/faber_sam1_s12_crack_tomo_174007.tif'\n"
     ]
    },
    {
     "name": "stdout",
     "output_type": "stream",
     "text": [
      "Finished scan 23/23\n"
     ]
    }
   ],
   "source": [
    "OUT_DIR = 'working_dir/voids_remap' \n",
    "\n",
    "error_scans = []\n",
    "for i, scan in enumerate(scans):\n",
    "    config['img_range'] = [scan['start'], scan['end']]\n",
    "    config['omega'] = scan['omega'].tolist()\n",
    "    assert scan['end'] - scan['start'] + 1 == len(config['omega'])\n",
    "\n",
    "    curr_config_fp = 'working_dir/temp_all_config.json'\n",
    "    with open(curr_config_fp, 'w') as curr_conf_f:\n",
    "        json.dump(config, curr_conf_f)\n",
    "    map_proc = subprocess.run(['python', 'coarse_mesh.py', f'{curr_config_fp}', OUT_DIR])\n",
    "    if map_proc.returncode != 0:\n",
    "        error_scans.append(f\"{scan['start']}-{scan['end']}\")\n",
    "\n",
    "    print(f'Finished scan {i + 1}/{len(scans)}')"
   ]
  },
  {
   "cell_type": "code",
   "execution_count": null,
   "metadata": {},
   "outputs": [],
   "source": []
  }
 ],
 "metadata": {
  "kernelspec": {
   "display_name": "Python 3.9.13 ('tomo2meshuni')",
   "language": "python",
   "name": "python3"
  },
  "language_info": {
   "codemirror_mode": {
    "name": "ipython",
    "version": 3
   },
   "file_extension": ".py",
   "mimetype": "text/x-python",
   "name": "python",
   "nbconvert_exporter": "python",
   "pygments_lexer": "ipython3",
   "version": "3.9.13"
  },
  "orig_nbformat": 4,
  "vscode": {
   "interpreter": {
    "hash": "fd44438f92d1ca2c88f6b670fa39b224779857aeb737751b11d5e0bee03e9589"
   }
  }
 },
 "nbformat": 4,
 "nbformat_minor": 2
}
