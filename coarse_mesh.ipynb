{
 "cells": [
  {
   "cell_type": "code",
   "execution_count": 1,
   "metadata": {},
   "outputs": [
    {
     "name": "stderr",
     "output_type": "stream",
     "text": [
      "2022-09-23 15:15:34.792010: I tensorflow/core/platform/cpu_feature_guard.cc:193] This TensorFlow binary is optimized with oneAPI Deep Neural Network Library (oneDNN) to use the following CPU instructions in performance-critical operations:  AVX2 FMA\n",
      "To enable them in other operations, rebuild TensorFlow with the appropriate compiler flags.\n",
      "2022-09-23 15:15:36.754754: E tensorflow/stream_executor/cuda/cuda_blas.cc:2981] Unable to register cuBLAS factory: Attempting to register factory for plugin cuBLAS when one has already been registered\n",
      "2022-09-23 15:15:43.368760: W tensorflow/stream_executor/platform/default/dso_loader.cc:64] Could not load dynamic library 'libnvinfer.so.7'; dlerror: libnvinfer.so.7: cannot open shared object file: No such file or directory\n",
      "2022-09-23 15:15:43.369974: W tensorflow/stream_executor/platform/default/dso_loader.cc:64] Could not load dynamic library 'libnvinfer_plugin.so.7'; dlerror: libnvinfer_plugin.so.7: cannot open shared object file: No such file or directory\n",
      "2022-09-23 15:15:43.369999: W tensorflow/compiler/tf2tensorrt/utils/py_utils.cc:38] TF-TRT Warning: Cannot dlopen some TensorRT libraries. If you would like to use Nvidia GPU with TensorRT, please make sure the missing libraries mentioned above are installed properly.\n"
     ]
    }
   ],
   "source": [
    "import h5py\n",
    "import numpy as np\n",
    "from PIL import Image\n",
    "import json\n",
    "import os\n",
    "import copy\n",
    "\n",
    "from tomo2mesh.projects.steel_am.coarse2fine import coarse_map, process_subset\n",
    "from tomo2mesh.misc.voxel_processing import TimerGPU\n",
    "from tomo2mesh.structures.voids import Voids\n",
    "from tomo2mesh.porosity.params_3dunet import *\n",
    "from tomo2mesh.unet3d.surface_segmenter import SurfaceSegmenter\n",
    "from tomo2mesh.fbp.recon import recon_slice, recon_binned, recon_all"
   ]
  },
  {
   "cell_type": "code",
   "execution_count": 3,
   "metadata": {},
   "outputs": [],
   "source": [
    "with open('working_dir/config.json', 'r') as config_f:\n",
    "    config = json.load(config_f)\n",
    "prefix = config['img_dir']\n",
    "start_file = config['img_range'][0]\n",
    "end_file = config['img_range'][1]\n",
    "center = config['center']\n",
    "\n",
    "omega = np.asarray(config['omega'])\n",
    "omega = omega / 180 * np.pi # NOTE: Why 1pi and not 2pi"
   ]
  },
  {
   "cell_type": "code",
   "execution_count": 4,
   "metadata": {},
   "outputs": [],
   "source": [
    "projs = []\n",
    "for im_idx in range(start_file, end_file + 1):\n",
    "    im = Image.open(os.path.join(prefix, config['img_prefix'] + f'_{im_idx}.tif'))\n",
    "    projs.append(np.array(im))\n",
    "projs = np.stack(projs)"
   ]
  },
  {
   "cell_type": "code",
   "execution_count": 5,
   "metadata": {},
   "outputs": [],
   "source": [
    "b=4\n",
    "b_K = 4"
   ]
  },
  {
   "cell_type": "code",
   "execution_count": 6,
   "metadata": {},
   "outputs": [
    {
     "name": "stdout",
     "output_type": "stream",
     "text": [
      "\tTIME: COARSE RECON 14.95 secs\n",
      "\tSTAT: voids found - 15101\n",
      "\tTIME: LABELING 12.63 secs\n"
     ]
    }
   ],
   "source": [
    "voids_b = coarse_map(projs, omega, center, b, b_K, 2)"
   ]
  },
  {
   "cell_type": "code",
   "execution_count": 7,
   "metadata": {},
   "outputs": [],
   "source": [
    "filtered_voids = copy.deepcopy(voids_b)\n",
    "# Insert Filtering Here"
   ]
  },
  {
   "cell_type": "code",
   "execution_count": 8,
   "metadata": {},
   "outputs": [
    {
     "name": "stdout",
     "output_type": "stream",
     "text": [
      "void2mesh_mproc: preserve_feature : False, edge_thres : 0, b : 4, nprocs : None\n",
      "\tTIME: compute void mesh 7.62 secs\n"
     ]
    }
   ],
   "source": [
    "filtered_voids.export_void_mesh_mproc(\"sizes\", edge_thresh=0).write_ply(\n",
    "    f\"working_dir/{config['img_prefix']}_{config['img_range'][0]}_{config['img_range'][1]}.ply\")"
   ]
  },
  {
   "cell_type": "code",
   "execution_count": null,
   "metadata": {},
   "outputs": [],
   "source": []
  }
 ],
 "metadata": {
  "kernelspec": {
   "display_name": "Python 3.9.13 ('tomo2meshuni')",
   "language": "python",
   "name": "python3"
  },
  "language_info": {
   "codemirror_mode": {
    "name": "ipython",
    "version": 3
   },
   "file_extension": ".py",
   "mimetype": "text/x-python",
   "name": "python",
   "nbconvert_exporter": "python",
   "pygments_lexer": "ipython3",
   "version": "3.9.13"
  },
  "orig_nbformat": 4,
  "vscode": {
   "interpreter": {
    "hash": "fd44438f92d1ca2c88f6b670fa39b224779857aeb737751b11d5e0bee03e9589"
   }
  }
 },
 "nbformat": 4,
 "nbformat_minor": 2
}
