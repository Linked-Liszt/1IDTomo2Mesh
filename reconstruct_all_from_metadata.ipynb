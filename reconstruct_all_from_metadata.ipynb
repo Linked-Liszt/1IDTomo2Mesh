{
 "cells": [
  {
   "cell_type": "code",
   "execution_count": 1,
   "metadata": {},
   "outputs": [],
   "source": [
    "import json\n",
    "import subprocess #Need to clean up GPU memory after execution so forced to restart interpreter"
   ]
  },
  {
   "cell_type": "code",
   "execution_count": 2,
   "metadata": {},
   "outputs": [],
   "source": [
    "scans = []\n",
    "NUM_FIELD_BEGIN = 10\n",
    "NUM_FIELD_END = 20\n",
    "\n",
    "with open('working_dir/faber_sam1_s12_crack_tomo_TomoFastScan.dat') as dat_f:\n",
    "    read_counter = 0\n",
    "    cur_scan = {}\n",
    "\n",
    "    for line in dat_f:\n",
    "        if line.startswith('End'):\n",
    "            read_counter = 2\n",
    "        elif read_counter == 2:\n",
    "            read_counter -= 1\n",
    "            cur_scan['start'] = int(line.split(' ')[4].strip()) + NUM_FIELD_BEGIN\n",
    "        elif read_counter == 1:\n",
    "            read_counter -= 1\n",
    "            cur_scan['end'] = int(line.split(' ')[4].strip()) - NUM_FIELD_END\n",
    "            scans.append(cur_scan)\n",
    "            cur_scan = {}"
   ]
  },
  {
   "cell_type": "code",
   "execution_count": 3,
   "metadata": {},
   "outputs": [],
   "source": [
    "with open('working_dir/config.json', 'r') as config_f:\n",
    "    config = json.load(config_f)"
   ]
  },
  {
   "cell_type": "code",
   "execution_count": 4,
   "metadata": {},
   "outputs": [
    {
     "name": "stdout",
     "output_type": "stream",
     "text": [
      "[{'start': 133706, 'end': 135506}, {'start': 135537, 'end': 137337}, {'start': 137368, 'end': 139168}, {'start': 139200, 'end': 141000}, {'start': 141031, 'end': 142831}, {'start': 142862, 'end': 144662}, {'start': 144694, 'end': 146494}, {'start': 146525, 'end': 148325}, {'start': 148356, 'end': 150156}, {'start': 150188, 'end': 151988}, {'start': 152019, 'end': 153819}, {'start': 153850, 'end': 155650}, {'start': 155682, 'end': 157482}, {'start': 157513, 'end': 159313}, {'start': 159344, 'end': 161144}, {'start': 161177, 'end': 162977}, {'start': 163008, 'end': 164808}, {'start': 164839, 'end': 166639}, {'start': 166670, 'end': 168470}, {'start': 168501, 'end': 170301}, {'start': 170332, 'end': 172132}, {'start': 172163, 'end': 173963}, {'start': 173994, 'end': 175794}]\n"
     ]
    }
   ],
   "source": [
    "print(scans)"
   ]
  },
  {
   "cell_type": "code",
   "execution_count": 5,
   "metadata": {},
   "outputs": [
    {
     "name": "stderr",
     "output_type": "stream",
     "text": [
      "2022-09-26 09:10:31.706896: I tensorflow/core/platform/cpu_feature_guard.cc:193] This TensorFlow binary is optimized with oneAPI Deep Neural Network Library (oneDNN) to use the following CPU instructions in performance-critical operations:  AVX2 FMA\n",
      "To enable them in other operations, rebuild TensorFlow with the appropriate compiler flags.\n",
      "2022-09-26 09:10:31.978726: E tensorflow/stream_executor/cuda/cuda_blas.cc:2981] Unable to register cuBLAS factory: Attempting to register factory for plugin cuBLAS when one has already been registered\n",
      "2022-09-26 09:10:34.708761: W tensorflow/stream_executor/platform/default/dso_loader.cc:64] Could not load dynamic library 'libnvinfer.so.7'; dlerror: libnvinfer.so.7: cannot open shared object file: No such file or directory\n",
      "2022-09-26 09:10:34.708890: W tensorflow/stream_executor/platform/default/dso_loader.cc:64] Could not load dynamic library 'libnvinfer_plugin.so.7'; dlerror: libnvinfer_plugin.so.7: cannot open shared object file: No such file or directory\n",
      "2022-09-26 09:10:34.708905: W tensorflow/compiler/tf2tensorrt/utils/py_utils.cc:38] TF-TRT Warning: Cannot dlopen some TensorRT libraries. If you would like to use Nvidia GPU with TensorRT, please make sure the missing libraries mentioned above are installed properly.\n"
     ]
    },
    {
     "name": "stdout",
     "output_type": "stream",
     "text": [
      "\tTIME: COARSE RECON 6.41 secs\n",
      "\tSTAT: voids found - 27009\n",
      "\tTIME: LABELING 22.75 secs\n",
      "void2mesh_mproc: preserve_feature : False, edge_thres : 0, b : 4, nprocs : None\n"
     ]
    }
   ],
   "source": [
    "for i, scan in enumerate(scans):\n",
    "    assert scan['end'] - scan['start'] == len(config['omega'])\n",
    "    config['img_range'] = [scan['start'], scan['end']]\n",
    "    curr_config_fp = 'working_dir/temp_all_config.json'\n",
    "    with open(curr_config_fp, 'w') as curr_conf_f:\n",
    "        json.dump(config, curr_conf_f)\n",
    "    subprocess.run(['python', 'coarse_mesh.py', f'{curr_config_fp}', 'working_dir/voids'])\n",
    "    print(f'Finished scan {i}/{len(scans)}')"
   ]
  },
  {
   "cell_type": "code",
   "execution_count": null,
   "metadata": {},
   "outputs": [],
   "source": []
  }
 ],
 "metadata": {
  "kernelspec": {
   "display_name": "Python 3.9.13 ('tomo2meshuni')",
   "language": "python",
   "name": "python3"
  },
  "language_info": {
   "codemirror_mode": {
    "name": "ipython",
    "version": 3
   },
   "file_extension": ".py",
   "mimetype": "text/x-python",
   "name": "python",
   "nbconvert_exporter": "python",
   "pygments_lexer": "ipython3",
   "version": "3.9.13"
  },
  "orig_nbformat": 4,
  "vscode": {
   "interpreter": {
    "hash": "fd44438f92d1ca2c88f6b670fa39b224779857aeb737751b11d5e0bee03e9589"
   }
  }
 },
 "nbformat": 4,
 "nbformat_minor": 2
}
