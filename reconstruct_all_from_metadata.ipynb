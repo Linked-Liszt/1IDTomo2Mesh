{
 "cells": [
  {
   "cell_type": "code",
   "execution_count": 21,
   "metadata": {},
   "outputs": [],
   "source": [
    "import json\n",
    "import coarse_mesh"
   ]
  },
  {
   "cell_type": "code",
   "execution_count": 22,
   "metadata": {},
   "outputs": [],
   "source": [
    "scans = []\n",
    "NUM_FIELD_BEGIN = 10\n",
    "NUM_FIELD_END = 20\n",
    "\n",
    "with open('working_dir/faber_sam1_s12_crack_tomo_TomoFastScan.dat') as dat_f:\n",
    "    read_counter = 0\n",
    "    cur_scan = {}\n",
    "\n",
    "    for line in dat_f:\n",
    "        if line.startswith('End'):\n",
    "            read_counter = 2\n",
    "        elif read_counter == 2:\n",
    "            read_counter -= 1\n",
    "            cur_scan['start'] = int(line.split(' ')[4].strip()) + NUM_FIELD_BEGIN\n",
    "        elif read_counter == 1:\n",
    "            read_counter -= 1\n",
    "            cur_scan['end'] = int(line.split(' ')[4].strip()) - NUM_FIELD_END\n",
    "            scans.append(cur_scan)\n",
    "            cur_scan = {}"
   ]
  },
  {
   "cell_type": "code",
   "execution_count": 23,
   "metadata": {},
   "outputs": [],
   "source": [
    "with open('working_dir/config.json', 'r') as config_f:\n",
    "    config = json.load(config_f)"
   ]
  },
  {
   "cell_type": "code",
   "execution_count": 24,
   "metadata": {},
   "outputs": [
    {
     "name": "stdout",
     "output_type": "stream",
     "text": [
      "[{'start': 133706, 'end': 135506}, {'start': 135537, 'end': 137337}, {'start': 137368, 'end': 139168}, {'start': 139200, 'end': 141000}, {'start': 141031, 'end': 142831}, {'start': 142862, 'end': 144662}, {'start': 144694, 'end': 146494}, {'start': 146525, 'end': 148325}, {'start': 148356, 'end': 150156}, {'start': 150188, 'end': 151988}, {'start': 152019, 'end': 153819}, {'start': 153850, 'end': 155650}, {'start': 155682, 'end': 157482}, {'start': 157513, 'end': 159313}, {'start': 159344, 'end': 161144}, {'start': 161177, 'end': 162977}, {'start': 163008, 'end': 164808}, {'start': 164839, 'end': 166639}, {'start': 166670, 'end': 168470}, {'start': 168501, 'end': 170301}, {'start': 170332, 'end': 172132}, {'start': 172163, 'end': 173963}, {'start': 173994, 'end': 175794}]\n"
     ]
    }
   ],
   "source": [
    "print(scans)"
   ]
  },
  {
   "cell_type": "code",
   "execution_count": 25,
   "metadata": {},
   "outputs": [
    {
     "name": "stdout",
     "output_type": "stream",
     "text": [
      "1800\n",
      "1800\n"
     ]
    }
   ],
   "source": [
    "for i, scan in enumerate(scans):\n",
    "    assert scan['end'] - scan['start'] == len(config['omega'])\n",
    "    config['img_range'] = [scan['start'], scan['end']]\n",
    "    coarse_mesh.find_voids_coarse(config)\n",
    "    print(f'Finished scan {i}/{len(scans)}')"
   ]
  },
  {
   "cell_type": "code",
   "execution_count": null,
   "metadata": {},
   "outputs": [],
   "source": []
  }
 ],
 "metadata": {
  "kernelspec": {
   "display_name": "Python 3.9.13 ('tomo2meshuni')",
   "language": "python",
   "name": "python3"
  },
  "language_info": {
   "codemirror_mode": {
    "name": "ipython",
    "version": 3
   },
   "file_extension": ".py",
   "mimetype": "text/x-python",
   "name": "python",
   "nbconvert_exporter": "python",
   "pygments_lexer": "ipython3",
   "version": "3.9.13"
  },
  "orig_nbformat": 4,
  "vscode": {
   "interpreter": {
    "hash": "fd44438f92d1ca2c88f6b670fa39b224779857aeb737751b11d5e0bee03e9589"
   }
  }
 },
 "nbformat": 4,
 "nbformat_minor": 2
}
