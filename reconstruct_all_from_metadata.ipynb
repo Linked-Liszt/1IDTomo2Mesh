{
 "cells": [
  {
   "cell_type": "code",
   "execution_count": 1,
   "metadata": {},
   "outputs": [],
   "source": [
    "import json\n",
    "import subprocess #Need to clean up GPU memory after execution so forced to restart interpreter\n",
    "import numpy as np"
   ]
  },
  {
   "cell_type": "code",
   "execution_count": 2,
   "metadata": {},
   "outputs": [],
   "source": [
    "def find_omegas(dat_lines, start_idx, end_idx, entry_line):\n",
    "    METADATA_LINE_LEN = 51 \n",
    "    SCAN_ID_IDX = 7\n",
    "    OMEGA_IDX = 31\n",
    "\n",
    "    omegas = np.zeros(end_idx - start_idx + 1)\n",
    "    found_omegas = np.zeros(end_idx - start_idx + 1)\n",
    "\n",
    "    for i in range(entry_line, 0, -1):\n",
    "        line = dat_lines[i].split(' ')\n",
    "        if len(line) == METADATA_LINE_LEN:\n",
    "            scan_num = int(line[SCAN_ID_IDX])\n",
    "\n",
    "            if scan_num < start_idx:\n",
    "                break\n",
    "\n",
    "            if scan_num <= end_idx:\n",
    "                store_idx = scan_num - start_idx\n",
    "                omegas[store_idx] = float(line[OMEGA_IDX])\n",
    "                found_omegas[store_idx] = True\n",
    "\n",
    "    if not np.all(found_omegas):\n",
    "        raise ValueError(f\"Unable to find all omegas for given scan range {start_idx}-{end_idx}\")    \n",
    "    \n",
    "    return omegas"
   ]
  },
  {
   "cell_type": "code",
   "execution_count": 3,
   "metadata": {},
   "outputs": [],
   "source": [
    "scans = []\n",
    "NUM_FIELD_BEGIN = 10\n",
    "NUM_FIELD_END = 20\n",
    "\n",
    "\n",
    "with open('working_dir/faber_sam1_s12_crack_tomo_TomoFastScan.dat') as dat_f:\n",
    "    read_counter = 0\n",
    "    cur_scan = {}\n",
    "    dat_lines = dat_f.readlines()\n",
    "\n",
    "    for i, line in enumerate(dat_lines):\n",
    "        if line.startswith('End'):\n",
    "            read_counter = 2\n",
    "        elif read_counter == 2:\n",
    "            read_counter -= 1\n",
    "            cur_scan['start'] = int(line.split(' ')[4].strip()) + NUM_FIELD_BEGIN\n",
    "        elif read_counter == 1:\n",
    "            read_counter -= 1\n",
    "            cur_scan['end'] = int(line.split(' ')[4].strip()) - NUM_FIELD_END\n",
    "            cur_scan['omega'] = find_omegas(dat_lines, \n",
    "                                             cur_scan['start'],\n",
    "                                             cur_scan['end'],\n",
    "                                             i)\n",
    "            scans.append(cur_scan)\n",
    "            cur_scan = {}\n",
    "            "
   ]
  },
  {
   "cell_type": "code",
   "execution_count": 4,
   "metadata": {},
   "outputs": [],
   "source": [
    "with open('working_dir/config.json', 'r') as config_f:\n",
    "    config = json.load(config_f)"
   ]
  },
  {
   "cell_type": "code",
   "execution_count": 5,
   "metadata": {},
   "outputs": [
    {
     "name": "stdout",
     "output_type": "stream",
     "text": [
      "(133706, 135506)\n",
      "(135537, 137337)\n",
      "(137368, 139168)\n",
      "(139200, 141000)\n",
      "(141031, 142831)\n",
      "(142862, 144662)\n",
      "(144694, 146494)\n",
      "(146525, 148325)\n",
      "(148356, 150156)\n",
      "(150188, 151988)\n",
      "(152019, 153819)\n",
      "(153850, 155650)\n",
      "(155682, 157482)\n",
      "(157513, 159313)\n",
      "(159344, 161144)\n",
      "(161177, 162977)\n",
      "(163008, 164808)\n",
      "(164839, 166639)\n",
      "(166670, 168470)\n",
      "(168501, 170301)\n",
      "(170332, 172132)\n",
      "(172163, 173963)\n",
      "(173994, 175794)\n"
     ]
    }
   ],
   "source": [
    "for scan in scans:\n",
    "    print(f\"{scan['start'], scan['end']}\")"
   ]
  },
  {
   "cell_type": "code",
   "execution_count": 6,
   "metadata": {},
   "outputs": [
    {
     "name": "stderr",
     "output_type": "stream",
     "text": [
      "Traceback (most recent call last):\n",
      "  File \"/home/phoebus3/MPRINCE/Desktop/projects/1IDTomo2Mesh/coarse_mesh.py\", line 8, in <module>\n",
      "    from tomo2mesh.projects.steel_am.coarse2fine import coarse_map, process_subset\n",
      "  File \"/home/phoebus/MPRINCE/anaconda3/envs/tomo2meshuni/lib/python3.9/site-packages/tomo2mesh/__init__.py\", line 8, in <module>\n",
      "    from tomo2mesh.structures.grid import Grid\n",
      "  File \"/home/phoebus/MPRINCE/anaconda3/envs/tomo2meshuni/lib/python3.9/site-packages/tomo2mesh/structures/grid.py\", line 16, in <module>\n",
      "    import cupy as cp\n",
      "  File \"/home/phoebus/MPRINCE/anaconda3/envs/tomo2meshuni/lib/python3.9/site-packages/cupy/__init__.py\", line 556, in <module>\n",
      "    from cupy._math.trigonometric import arccos  # NOQA\n",
      "  File \"<frozen importlib._bootstrap>\", line 1007, in _find_and_load\n",
      "  File \"<frozen importlib._bootstrap>\", line 986, in _find_and_load_unlocked\n",
      "  File \"<frozen importlib._bootstrap>\", line 680, in _load_unlocked\n",
      "  File \"<frozen importlib._bootstrap_external>\", line 846, in exec_module\n",
      "  File \"<frozen importlib._bootstrap_external>\", line 941, in get_code\n",
      "  File \"<frozen importlib._bootstrap_external>\", line 1039, in get_data\n",
      "KeyboardInterrupt\n"
     ]
    },
    {
     "ename": "KeyboardInterrupt",
     "evalue": "",
     "output_type": "error",
     "traceback": [
      "\u001b[0;31m---------------------------------------------------------------------------\u001b[0m",
      "\u001b[0;31mKeyboardInterrupt\u001b[0m                         Traceback (most recent call last)",
      "Cell \u001b[0;32mIn [6], line 10\u001b[0m\n\u001b[1;32m      8\u001b[0m \u001b[38;5;28;01mwith\u001b[39;00m \u001b[38;5;28mopen\u001b[39m(curr_config_fp, \u001b[38;5;124m'\u001b[39m\u001b[38;5;124mw\u001b[39m\u001b[38;5;124m'\u001b[39m) \u001b[38;5;28;01mas\u001b[39;00m curr_conf_f:\n\u001b[1;32m      9\u001b[0m     json\u001b[38;5;241m.\u001b[39mdump(config, curr_conf_f)\n\u001b[0;32m---> 10\u001b[0m map_proc \u001b[38;5;241m=\u001b[39m \u001b[43msubprocess\u001b[49m\u001b[38;5;241;43m.\u001b[39;49m\u001b[43mrun\u001b[49m\u001b[43m(\u001b[49m\u001b[43m[\u001b[49m\u001b[38;5;124;43m'\u001b[39;49m\u001b[38;5;124;43mpython\u001b[39;49m\u001b[38;5;124;43m'\u001b[39;49m\u001b[43m,\u001b[49m\u001b[43m \u001b[49m\u001b[38;5;124;43m'\u001b[39;49m\u001b[38;5;124;43mcoarse_mesh.py\u001b[39;49m\u001b[38;5;124;43m'\u001b[39;49m\u001b[43m,\u001b[49m\u001b[43m \u001b[49m\u001b[38;5;124;43mf\u001b[39;49m\u001b[38;5;124;43m'\u001b[39;49m\u001b[38;5;132;43;01m{\u001b[39;49;00m\u001b[43mcurr_config_fp\u001b[49m\u001b[38;5;132;43;01m}\u001b[39;49;00m\u001b[38;5;124;43m'\u001b[39;49m\u001b[43m,\u001b[49m\u001b[43m \u001b[49m\u001b[43mOUT_DIR\u001b[49m\u001b[43m]\u001b[49m\u001b[43m)\u001b[49m\n\u001b[1;32m     11\u001b[0m \u001b[38;5;28;01mif\u001b[39;00m map_proc\u001b[38;5;241m.\u001b[39mreturncode \u001b[38;5;241m!=\u001b[39m \u001b[38;5;241m0\u001b[39m:\n\u001b[1;32m     12\u001b[0m     error_scans\u001b[38;5;241m.\u001b[39mappend(\u001b[38;5;124mf\u001b[39m\u001b[38;5;124m\"\u001b[39m\u001b[38;5;132;01m{\u001b[39;00mscan[\u001b[38;5;124m'\u001b[39m\u001b[38;5;124mstart\u001b[39m\u001b[38;5;124m'\u001b[39m]\u001b[38;5;132;01m}\u001b[39;00m\u001b[38;5;124m-\u001b[39m\u001b[38;5;132;01m{\u001b[39;00mscan[\u001b[38;5;124m'\u001b[39m\u001b[38;5;124mend\u001b[39m\u001b[38;5;124m'\u001b[39m]\u001b[38;5;132;01m}\u001b[39;00m\u001b[38;5;124m\"\u001b[39m)\n",
      "File \u001b[0;32m~/anaconda3/envs/tomo2meshuni/lib/python3.9/subprocess.py:507\u001b[0m, in \u001b[0;36mrun\u001b[0;34m(input, capture_output, timeout, check, *popenargs, **kwargs)\u001b[0m\n\u001b[1;32m    505\u001b[0m \u001b[39mwith\u001b[39;00m Popen(\u001b[39m*\u001b[39mpopenargs, \u001b[39m*\u001b[39m\u001b[39m*\u001b[39mkwargs) \u001b[39mas\u001b[39;00m process:\n\u001b[1;32m    506\u001b[0m     \u001b[39mtry\u001b[39;00m:\n\u001b[0;32m--> 507\u001b[0m         stdout, stderr \u001b[39m=\u001b[39m process\u001b[39m.\u001b[39;49mcommunicate(\u001b[39minput\u001b[39;49m, timeout\u001b[39m=\u001b[39;49mtimeout)\n\u001b[1;32m    508\u001b[0m     \u001b[39mexcept\u001b[39;00m TimeoutExpired \u001b[39mas\u001b[39;00m exc:\n\u001b[1;32m    509\u001b[0m         process\u001b[39m.\u001b[39mkill()\n",
      "File \u001b[0;32m~/anaconda3/envs/tomo2meshuni/lib/python3.9/subprocess.py:1126\u001b[0m, in \u001b[0;36mPopen.communicate\u001b[0;34m(self, input, timeout)\u001b[0m\n\u001b[1;32m   1124\u001b[0m         stderr \u001b[39m=\u001b[39m \u001b[39mself\u001b[39m\u001b[39m.\u001b[39mstderr\u001b[39m.\u001b[39mread()\n\u001b[1;32m   1125\u001b[0m         \u001b[39mself\u001b[39m\u001b[39m.\u001b[39mstderr\u001b[39m.\u001b[39mclose()\n\u001b[0;32m-> 1126\u001b[0m     \u001b[39mself\u001b[39;49m\u001b[39m.\u001b[39;49mwait()\n\u001b[1;32m   1127\u001b[0m \u001b[39melse\u001b[39;00m:\n\u001b[1;32m   1128\u001b[0m     \u001b[39mif\u001b[39;00m timeout \u001b[39mis\u001b[39;00m \u001b[39mnot\u001b[39;00m \u001b[39mNone\u001b[39;00m:\n",
      "File \u001b[0;32m~/anaconda3/envs/tomo2meshuni/lib/python3.9/subprocess.py:1189\u001b[0m, in \u001b[0;36mPopen.wait\u001b[0;34m(self, timeout)\u001b[0m\n\u001b[1;32m   1187\u001b[0m     endtime \u001b[39m=\u001b[39m _time() \u001b[39m+\u001b[39m timeout\n\u001b[1;32m   1188\u001b[0m \u001b[39mtry\u001b[39;00m:\n\u001b[0;32m-> 1189\u001b[0m     \u001b[39mreturn\u001b[39;00m \u001b[39mself\u001b[39;49m\u001b[39m.\u001b[39;49m_wait(timeout\u001b[39m=\u001b[39;49mtimeout)\n\u001b[1;32m   1190\u001b[0m \u001b[39mexcept\u001b[39;00m \u001b[39mKeyboardInterrupt\u001b[39;00m:\n\u001b[1;32m   1191\u001b[0m     \u001b[39m# https://bugs.python.org/issue25942\u001b[39;00m\n\u001b[1;32m   1192\u001b[0m     \u001b[39m# The first keyboard interrupt waits briefly for the child to\u001b[39;00m\n\u001b[1;32m   1193\u001b[0m     \u001b[39m# exit under the common assumption that it also received the ^C\u001b[39;00m\n\u001b[1;32m   1194\u001b[0m     \u001b[39m# generated SIGINT and will exit rapidly.\u001b[39;00m\n\u001b[1;32m   1195\u001b[0m     \u001b[39mif\u001b[39;00m timeout \u001b[39mis\u001b[39;00m \u001b[39mnot\u001b[39;00m \u001b[39mNone\u001b[39;00m:\n",
      "File \u001b[0;32m~/anaconda3/envs/tomo2meshuni/lib/python3.9/subprocess.py:1917\u001b[0m, in \u001b[0;36mPopen._wait\u001b[0;34m(self, timeout)\u001b[0m\n\u001b[1;32m   1915\u001b[0m \u001b[39mif\u001b[39;00m \u001b[39mself\u001b[39m\u001b[39m.\u001b[39mreturncode \u001b[39mis\u001b[39;00m \u001b[39mnot\u001b[39;00m \u001b[39mNone\u001b[39;00m:\n\u001b[1;32m   1916\u001b[0m     \u001b[39mbreak\u001b[39;00m  \u001b[39m# Another thread waited.\u001b[39;00m\n\u001b[0;32m-> 1917\u001b[0m (pid, sts) \u001b[39m=\u001b[39m \u001b[39mself\u001b[39;49m\u001b[39m.\u001b[39;49m_try_wait(\u001b[39m0\u001b[39;49m)\n\u001b[1;32m   1918\u001b[0m \u001b[39m# Check the pid and loop as waitpid has been known to\u001b[39;00m\n\u001b[1;32m   1919\u001b[0m \u001b[39m# return 0 even without WNOHANG in odd situations.\u001b[39;00m\n\u001b[1;32m   1920\u001b[0m \u001b[39m# http://bugs.python.org/issue14396.\u001b[39;00m\n\u001b[1;32m   1921\u001b[0m \u001b[39mif\u001b[39;00m pid \u001b[39m==\u001b[39m \u001b[39mself\u001b[39m\u001b[39m.\u001b[39mpid:\n",
      "File \u001b[0;32m~/anaconda3/envs/tomo2meshuni/lib/python3.9/subprocess.py:1875\u001b[0m, in \u001b[0;36mPopen._try_wait\u001b[0;34m(self, wait_flags)\u001b[0m\n\u001b[1;32m   1873\u001b[0m \u001b[39m\"\"\"All callers to this function MUST hold self._waitpid_lock.\"\"\"\u001b[39;00m\n\u001b[1;32m   1874\u001b[0m \u001b[39mtry\u001b[39;00m:\n\u001b[0;32m-> 1875\u001b[0m     (pid, sts) \u001b[39m=\u001b[39m os\u001b[39m.\u001b[39;49mwaitpid(\u001b[39mself\u001b[39;49m\u001b[39m.\u001b[39;49mpid, wait_flags)\n\u001b[1;32m   1876\u001b[0m \u001b[39mexcept\u001b[39;00m \u001b[39mChildProcessError\u001b[39;00m:\n\u001b[1;32m   1877\u001b[0m     \u001b[39m# This happens if SIGCLD is set to be ignored or waiting\u001b[39;00m\n\u001b[1;32m   1878\u001b[0m     \u001b[39m# for child processes has otherwise been disabled for our\u001b[39;00m\n\u001b[1;32m   1879\u001b[0m     \u001b[39m# process.  This child is dead, we can't get the status.\u001b[39;00m\n\u001b[1;32m   1880\u001b[0m     pid \u001b[39m=\u001b[39m \u001b[39mself\u001b[39m\u001b[39m.\u001b[39mpid\n",
      "\u001b[0;31mKeyboardInterrupt\u001b[0m: "
     ]
    }
   ],
   "source": [
    "OUT_DIR = 'working_dir/voids_remap' \n",
    "\n",
    "error_scans = []\n",
    "for i, scan in enumerate(scans):\n",
    "    assert scan['end'] - scan['start'] == len(config['omega'])\n",
    "    config['img_range'] = [scan['start'], scan['end']]\n",
    "    config['omega'] = scan['omega']\n",
    "    curr_config_fp = 'working_dir/temp_all_config.json'\n",
    "    with open(curr_config_fp, 'w') as curr_conf_f:\n",
    "        json.dump(config, curr_conf_f)\n",
    "    map_proc = subprocess.run(['python', 'coarse_mesh.py', f'{curr_config_fp}', OUT_DIR])\n",
    "    if map_proc.returncode != 0:\n",
    "        error_scans.append(f\"{scan['start']}-{scan['end']}\")\n",
    "\n",
    "    print(f'Finished scan {i + 1}/{len(scans)}')"
   ]
  },
  {
   "cell_type": "code",
   "execution_count": null,
   "metadata": {},
   "outputs": [],
   "source": []
  }
 ],
 "metadata": {
  "kernelspec": {
   "display_name": "Python 3.9.13 ('tomo2meshuni')",
   "language": "python",
   "name": "python3"
  },
  "language_info": {
   "codemirror_mode": {
    "name": "ipython",
    "version": 3
   },
   "file_extension": ".py",
   "mimetype": "text/x-python",
   "name": "python",
   "nbconvert_exporter": "python",
   "pygments_lexer": "ipython3",
   "version": "3.9.13"
  },
  "orig_nbformat": 4,
  "vscode": {
   "interpreter": {
    "hash": "fd44438f92d1ca2c88f6b670fa39b224779857aeb737751b11d5e0bee03e9589"
   }
  }
 },
 "nbformat": 4,
 "nbformat_minor": 2
}
